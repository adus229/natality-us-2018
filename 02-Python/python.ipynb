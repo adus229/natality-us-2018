{
 "cells": [
  {
   "cell_type": "code",
   "execution_count": 3,
   "metadata": {
    "colab": {
     "base_uri": "https://localhost:8080/"
    },
    "id": "OqEG4C0A1GEs",
    "outputId": "573bf5ed-0d80-4968-a89d-df8a0f99adea",
    "tags": []
   },
   "outputs": [],
   "source": [
    "import pandas as pd\n",
    "import numpy as np\n",
    "import matplotlib.pyplot as plt"
   ]
  },
  {
   "cell_type": "markdown",
   "metadata": {},
   "source": [
    "# Data\n",
    "The data used in this notebook is available at this link [https://data.nber.org/nvss/natality/csv/2018/natality2018us.csv](https://data.nber.org/nvss/natality/csv/2018/natality2018us.csv)\n"
   ]
  },
  {
   "cell_type": "code",
   "execution_count": null,
   "metadata": {},
   "outputs": [],
   "source": [
    "babies = pd.read_csv(\"../00-donnees/natl2018us.csv\")"
   ]
  },
  {
   "cell_type": "code",
   "execution_count": 87,
   "metadata": {
    "id": "gEnSRWTC2X8T"
   },
   "outputs": [],
   "source": [
    "\n",
    "#Séléctionner uniquement les variables qui nous interressent    \n",
    "babies = babies[['mager',\n",
    "        'tbo_rec',\n",
    "        'previs',\n",
    "        'wic',\n",
    "        \"rf_pdiab\",\n",
    "        'dplural',\n",
    "        'sex',\n",
    "        'dbwt',\n",
    "        \"rf_gdiab\",\n",
    "        'bfacil3',\n",
    "        \"mrace6\",\n",
    "        \"frace6\",\n",
    "        'cig_rec','cig_0',\n",
    "        'bmi_r','bmi',\n",
    "        'rf_fedrg',\n",
    "        'meduc',\n",
    "        'fagecomb',\n",
    "        'feduc',\n",
    "        'apgar5',\n",
    "        'rf_phype',\n",
    "        'rf_ghype',\n",
    "        \"combgest\",\n",
    "        \"gestrec3\",\n",
    "        \"ca_downs\",\n",
    "        \"ca_limb\"\n",
    "        ]]\n"
   ]
  },
  {
   "cell_type": "code",
   "execution_count": 88,
   "metadata": {
    "id": "ycHKLS8mLLB4"
   },
   "outputs": [],
   "source": [
    "## Renommer les variables pour mieux les distinguer\n",
    "babies = babies.rename(columns={\n",
    "    \"mager\":\"age_mere\",\n",
    "    \"fagecomb\":\"age_pere\",\n",
    "    \"tbo_rec\": \"ordre_naissance\",\n",
    "    \"cig_0\":\"nbre_cigarette_daily\",\n",
    "    \"cig_rec\":\"mere_fumeuse\",\n",
    "    \"bmi_r\":\"imc_rec\",\n",
    "    \"bmi\":\"imc\",\n",
    "    \"bfacil3\":\"born_hopital\",\n",
    "    \"meduc\":\"niv_educ_mere\",\n",
    "    \"feduc\":\"niv_educ_pere\",\n",
    "    \"dbwt\":\"poids_bebe\",\n",
    "    \"mrace6\":\"mere_race\",\n",
    "    \"frace6\":\"pere_race\",\n",
    "    \"combgest\":\"duree_grossesse\",\n",
    "    \"gestrec3\":\"naissance_premature\",\n",
    "    \"rf_fedrg\":\"medoc_fertilite\"\n",
    "    })\n"
   ]
  },
  {
   "cell_type": "markdown",
   "metadata": {
    "id": "jcAXgArIaZBD"
   },
   "source": [
    "\n",
    "#Traitement rapide des données (recodage, valeurs manquantes )"
   ]
  },
  {
   "cell_type": "code",
   "execution_count": 89,
   "metadata": {
    "id": "UD4GntISmB2Z"
   },
   "outputs": [],
   "source": [
    "#On supprime toutes les observations qui sont des valeurs manquantes pour notre variable d'intérêt qu'est le poids des bébés\n",
    "#indiquer que 9999 correspond aux valeurs manquantes\n",
    "babies.poids_bebe.replace(9999,np.NaN, inplace=True)\n",
    "babies.poids_bebe.dropna(inplace=True)"
   ]
  },
  {
   "cell_type": "code",
   "execution_count": 90,
   "metadata": {
    "id": "H2XmYSdJaffp"
   },
   "outputs": [],
   "source": [
    "\n",
    "#On recode certaines variables pour la partie analyse\n",
    "#le sexe\n",
    "babies.sex.replace({\"M\":1,\"F\":0},inplace=True)\n",
    "#la naissance premature ou pas\n",
    "babies.naissance_premature.replace(3,np.NaN,inplace=True)\n",
    "#Mere fumeuse \n",
    "babies.mere_fumeuse.replace({\"Y\":1,\"N\":0,\"U\":np.NaN},inplace=True)\n",
    "#Obtention des alimentations du programme wic\n",
    "babies.wic.replace({\"Y\":1,\"N\":0,\"U\":np.NaN},inplace=True)\n",
    "#Niveau d'éducation des mères\n",
    "babies.niv_educ_mere.replace(9,np.NaN,inplace=True)\n",
    "#Utilisation des médicaments de fertilité par la mère\n",
    "babies.medoc_fertilite.replace(\"U\",np.NaN,inplace=True)\n"
   ]
  },
  {
   "cell_type": "markdown",
   "metadata": {
    "id": "34FCDOLtXEP3"
   },
   "source": [
    "# Analyse descriptive unilatérale sur quelque variables"
   ]
  },
  {
   "cell_type": "markdown",
   "metadata": {
    "id": "qOGpsD3Zx-F0"
   },
   "source": [
    "# Manipulation de données\n"
   ]
  },
  {
   "cell_type": "markdown",
   "metadata": {
    "id": "M3MyNJyJxAvR"
   },
   "source": [
    "## Création de variables à partir d'autres\n",
    "Le poids normal à la naissance est entre 2500g et 4000g exclu, donc nous pouvons catégoriser le poids des enfants comme suit:\n",
    "- $\\lt$2500 g : faible poids\n",
    "- 2500g-4000g : poids normal\n",
    "-  $\\ge$ 4000 g"
   ]
  },
  {
   "cell_type": "code",
   "execution_count": 91,
   "metadata": {
    "colab": {
     "base_uri": "https://localhost:8080/"
    },
    "id": "Uk-HCSmt2b4M",
    "outputId": "9aeb3501-a6ec-40dc-dc33-df1e95fbac0f"
   },
   "outputs": [
    {
     "data": {
      "text/plain": [
       "Normal      0.840316\n",
       "Faible      0.082878\n",
       "Surpoids    0.076806\n",
       "Name: poids_cat, dtype: float64"
      ]
     },
     "execution_count": 91,
     "metadata": {
      "tags": []
     },
     "output_type": "execute_result"
    }
   ],
   "source": [
    "#Créons la nouvelle variable en se basant sur la catégorisation proposée plus haut\n",
    "babies.loc[babies.poids_bebe<2500,\"poids_cat\"] = \"Faible\"\n",
    "babies.loc[(babies.poids_bebe >=2500) & (babies.poids_bebe < 4000),\"poids_cat\"] = \"Normal\"\n",
    "babies.loc[babies.poids_bebe>4000,\"poids_cat\"] = \"Surpoids\"\n",
    "\n",
    "#Un tableau de fréquence\n",
    "babies.poids_cat.value_counts(normalize=True)"
   ]
  },
  {
   "cell_type": "markdown",
   "metadata": {
    "id": "4XnSJHGXjoSu"
   },
   "source": [
    "84% des enfants ont un poids normal à la naissance et 8% ont des poids faibles, de même que 8% sont en surpoids\n"
   ]
  },
  {
   "cell_type": "code",
   "execution_count": 92,
   "metadata": {
    "colab": {
     "base_uri": "https://localhost:8080/",
     "height": 206
    },
    "id": "u6T-wxELeS3P",
    "outputId": "7ecaf6a5-a6f5-48a1-b32a-6532aab9f591"
   },
   "outputs": [
    {
     "data": {
      "text/html": [
       "<div>\n",
       "<style scoped>\n",
       "    .dataframe tbody tr th:only-of-type {\n",
       "        vertical-align: middle;\n",
       "    }\n",
       "\n",
       "    .dataframe tbody tr th {\n",
       "        vertical-align: top;\n",
       "    }\n",
       "\n",
       "    .dataframe thead th {\n",
       "        text-align: right;\n",
       "    }\n",
       "</style>\n",
       "<table border=\"1\" class=\"dataframe\">\n",
       "  <thead>\n",
       "    <tr style=\"text-align: right;\">\n",
       "      <th></th>\n",
       "      <th>rf_gdiab</th>\n",
       "      <th>rf_pdiab</th>\n",
       "      <th>diabete</th>\n",
       "    </tr>\n",
       "  </thead>\n",
       "  <tbody>\n",
       "    <tr>\n",
       "      <th>0</th>\n",
       "      <td>N</td>\n",
       "      <td>N</td>\n",
       "      <td>0.0</td>\n",
       "    </tr>\n",
       "    <tr>\n",
       "      <th>1</th>\n",
       "      <td>N</td>\n",
       "      <td>N</td>\n",
       "      <td>0.0</td>\n",
       "    </tr>\n",
       "    <tr>\n",
       "      <th>2</th>\n",
       "      <td>N</td>\n",
       "      <td>N</td>\n",
       "      <td>0.0</td>\n",
       "    </tr>\n",
       "    <tr>\n",
       "      <th>3</th>\n",
       "      <td>N</td>\n",
       "      <td>N</td>\n",
       "      <td>0.0</td>\n",
       "    </tr>\n",
       "    <tr>\n",
       "      <th>4</th>\n",
       "      <td>N</td>\n",
       "      <td>N</td>\n",
       "      <td>0.0</td>\n",
       "    </tr>\n",
       "  </tbody>\n",
       "</table>\n",
       "</div>"
      ],
      "text/plain": [
       "  rf_gdiab rf_pdiab  diabete\n",
       "0        N        N      0.0\n",
       "1        N        N      0.0\n",
       "2        N        N      0.0\n",
       "3        N        N      0.0\n",
       "4        N        N      0.0"
      ]
     },
     "execution_count": 92,
     "metadata": {
      "tags": []
     },
     "output_type": "execute_result"
    }
   ],
   "source": [
    "\"\"\"\n",
    "Création de la variable diabete pour savoir si la mère \n",
    "d'un bébé donné a le diabete ou non, peut importe le moment où il est déclenché, \n",
    "avant ou après la grossesse\n",
    "\"\"\"\n",
    "babies.loc[(babies['rf_pdiab']==\"Y\")|(babies['rf_gdiab']==\"Y\"),\"diabete\"]=1\n",
    "babies.loc[(babies['rf_pdiab']==\"N\") & (babies['rf_gdiab']==\"N\"),\"diabete\"]=0\n",
    "babies[[\"rf_gdiab\",\"rf_pdiab\",\"diabete\"]].head()"
   ]
  },
  {
   "cell_type": "code",
   "execution_count": 93,
   "metadata": {
    "colab": {
     "base_uri": "https://localhost:8080/",
     "height": 206
    },
    "id": "GvY5ZzlqX4on",
    "outputId": "fc1485b9-274a-4ac2-83cc-91b7e4165492"
   },
   "outputs": [
    {
     "data": {
      "text/html": [
       "<div>\n",
       "<style scoped>\n",
       "    .dataframe tbody tr th:only-of-type {\n",
       "        vertical-align: middle;\n",
       "    }\n",
       "\n",
       "    .dataframe tbody tr th {\n",
       "        vertical-align: top;\n",
       "    }\n",
       "\n",
       "    .dataframe thead th {\n",
       "        text-align: right;\n",
       "    }\n",
       "</style>\n",
       "<table border=\"1\" class=\"dataframe\">\n",
       "  <thead>\n",
       "    <tr style=\"text-align: right;\">\n",
       "      <th></th>\n",
       "      <th>rf_phype</th>\n",
       "      <th>rf_ghype</th>\n",
       "      <th>hypertension</th>\n",
       "    </tr>\n",
       "  </thead>\n",
       "  <tbody>\n",
       "    <tr>\n",
       "      <th>2425264</th>\n",
       "      <td>N</td>\n",
       "      <td>N</td>\n",
       "      <td>0.0</td>\n",
       "    </tr>\n",
       "    <tr>\n",
       "      <th>2425265</th>\n",
       "      <td>N</td>\n",
       "      <td>N</td>\n",
       "      <td>0.0</td>\n",
       "    </tr>\n",
       "    <tr>\n",
       "      <th>2425266</th>\n",
       "      <td>N</td>\n",
       "      <td>N</td>\n",
       "      <td>0.0</td>\n",
       "    </tr>\n",
       "    <tr>\n",
       "      <th>2425267</th>\n",
       "      <td>N</td>\n",
       "      <td>N</td>\n",
       "      <td>0.0</td>\n",
       "    </tr>\n",
       "    <tr>\n",
       "      <th>2425268</th>\n",
       "      <td>N</td>\n",
       "      <td>Y</td>\n",
       "      <td>1.0</td>\n",
       "    </tr>\n",
       "  </tbody>\n",
       "</table>\n",
       "</div>"
      ],
      "text/plain": [
       "        rf_phype rf_ghype  hypertension\n",
       "2425264        N        N           0.0\n",
       "2425265        N        N           0.0\n",
       "2425266        N        N           0.0\n",
       "2425267        N        N           0.0\n",
       "2425268        N        Y           1.0"
      ]
     },
     "execution_count": 93,
     "metadata": {
      "tags": []
     },
     "output_type": "execute_result"
    }
   ],
   "source": [
    "\"\"\"\n",
    "Création de la variable hypertension \n",
    "indiquant si la mère d'un bébé donné souffre de l'hypertension ou non \n",
    "que ce soit avant la grossesse ou après la grossesse.\n",
    "\"\"\"\n",
    "babies.loc[(babies['rf_phype']==\"Y\")|(babies['rf_ghype']==\"Y\"),\"hypertension\"]=1\n",
    "babies.loc[(babies['rf_phype']==\"N\") & (babies['rf_ghype']==\"N\"),\"hypertension\"]=0\n",
    "babies[[\"rf_phype\",\"rf_ghype\",\"hypertension\"]].tail()"
   ]
  },
  {
   "cell_type": "code",
   "execution_count": 94,
   "metadata": {
    "id": "U5g7oEv9xApx"
   },
   "outputs": [],
   "source": [
    "#Convertissons le poids des enfants en kilogrammes \n",
    "babies[\"poids_bebe\"] /=1000"
   ]
  },
  {
   "cell_type": "markdown",
   "metadata": {
    "id": "ZIwUvWC3xbwj"
   },
   "source": [
    "## Opérations de filtrage\n"
   ]
  },
  {
   "cell_type": "code",
   "execution_count": 95,
   "metadata": {
    "colab": {
     "base_uri": "https://localhost:8080/",
     "height": 226
    },
    "id": "6EtnrXS_-7lb",
    "outputId": "559a9ab9-6043-4a8e-d1da-f83d7aa76c87"
   },
   "outputs": [
    {
     "data": {
      "text/html": [
       "<div>\n",
       "<style scoped>\n",
       "    .dataframe tbody tr th:only-of-type {\n",
       "        vertical-align: middle;\n",
       "    }\n",
       "\n",
       "    .dataframe tbody tr th {\n",
       "        vertical-align: top;\n",
       "    }\n",
       "\n",
       "    .dataframe thead th {\n",
       "        text-align: right;\n",
       "    }\n",
       "</style>\n",
       "<table border=\"1\" class=\"dataframe\">\n",
       "  <thead>\n",
       "    <tr style=\"text-align: right;\">\n",
       "      <th></th>\n",
       "      <th>age_mere</th>\n",
       "      <th>ordre_naissance</th>\n",
       "      <th>previs</th>\n",
       "      <th>wic</th>\n",
       "      <th>rf_pdiab</th>\n",
       "      <th>dplural</th>\n",
       "      <th>sex</th>\n",
       "      <th>poids_bebe</th>\n",
       "      <th>rf_gdiab</th>\n",
       "      <th>born_hopital</th>\n",
       "      <th>mere_race</th>\n",
       "      <th>pere_race</th>\n",
       "      <th>mere_fumeuse</th>\n",
       "      <th>nbre_cigarette_daily</th>\n",
       "      <th>imc_rec</th>\n",
       "      <th>imc</th>\n",
       "      <th>medoc_fertilite</th>\n",
       "      <th>niv_educ_mere</th>\n",
       "      <th>age_pere</th>\n",
       "      <th>niv_educ_pere</th>\n",
       "      <th>apgar5</th>\n",
       "      <th>rf_phype</th>\n",
       "      <th>rf_ghype</th>\n",
       "      <th>duree_grossesse</th>\n",
       "      <th>naissance_premature</th>\n",
       "      <th>ca_downs</th>\n",
       "      <th>ca_limb</th>\n",
       "      <th>poids_cat</th>\n",
       "      <th>diabete</th>\n",
       "      <th>hypertension</th>\n",
       "    </tr>\n",
       "  </thead>\n",
       "  <tbody>\n",
       "    <tr>\n",
       "      <th>0</th>\n",
       "      <td>30</td>\n",
       "      <td>4</td>\n",
       "      <td>8</td>\n",
       "      <td>0.0</td>\n",
       "      <td>N</td>\n",
       "      <td>1.0</td>\n",
       "      <td>1.0</td>\n",
       "      <td>3.657</td>\n",
       "      <td>N</td>\n",
       "      <td>1</td>\n",
       "      <td>10</td>\n",
       "      <td>1</td>\n",
       "      <td>0.0</td>\n",
       "      <td>0</td>\n",
       "      <td>4</td>\n",
       "      <td>30.7</td>\n",
       "      <td>X</td>\n",
       "      <td>6.0</td>\n",
       "      <td>31</td>\n",
       "      <td>3</td>\n",
       "      <td>9.0</td>\n",
       "      <td>N</td>\n",
       "      <td>N</td>\n",
       "      <td>38.0</td>\n",
       "      <td>2.0</td>\n",
       "      <td>N</td>\n",
       "      <td>N</td>\n",
       "      <td>Normal</td>\n",
       "      <td>0.0</td>\n",
       "      <td>0.0</td>\n",
       "    </tr>\n",
       "    <tr>\n",
       "      <th>2</th>\n",
       "      <td>28</td>\n",
       "      <td>2</td>\n",
       "      <td>17</td>\n",
       "      <td>1.0</td>\n",
       "      <td>N</td>\n",
       "      <td>1.0</td>\n",
       "      <td>1.0</td>\n",
       "      <td>3.470</td>\n",
       "      <td>N</td>\n",
       "      <td>1</td>\n",
       "      <td>10</td>\n",
       "      <td>1</td>\n",
       "      <td>0.0</td>\n",
       "      <td>0</td>\n",
       "      <td>4</td>\n",
       "      <td>30.0</td>\n",
       "      <td>X</td>\n",
       "      <td>6.0</td>\n",
       "      <td>31</td>\n",
       "      <td>4</td>\n",
       "      <td>9.0</td>\n",
       "      <td>Y</td>\n",
       "      <td>N</td>\n",
       "      <td>37.0</td>\n",
       "      <td>2.0</td>\n",
       "      <td>N</td>\n",
       "      <td>N</td>\n",
       "      <td>Normal</td>\n",
       "      <td>0.0</td>\n",
       "      <td>1.0</td>\n",
       "    </tr>\n",
       "    <tr>\n",
       "      <th>4</th>\n",
       "      <td>37</td>\n",
       "      <td>6</td>\n",
       "      <td>15</td>\n",
       "      <td>1.0</td>\n",
       "      <td>N</td>\n",
       "      <td>1.0</td>\n",
       "      <td>1.0</td>\n",
       "      <td>2.125</td>\n",
       "      <td>N</td>\n",
       "      <td>1</td>\n",
       "      <td>10</td>\n",
       "      <td>2</td>\n",
       "      <td>0.0</td>\n",
       "      <td>0</td>\n",
       "      <td>5</td>\n",
       "      <td>35.5</td>\n",
       "      <td>X</td>\n",
       "      <td>4.0</td>\n",
       "      <td>35</td>\n",
       "      <td>3</td>\n",
       "      <td>9.0</td>\n",
       "      <td>N</td>\n",
       "      <td>N</td>\n",
       "      <td>37.0</td>\n",
       "      <td>2.0</td>\n",
       "      <td>N</td>\n",
       "      <td>N</td>\n",
       "      <td>Faible</td>\n",
       "      <td>0.0</td>\n",
       "      <td>0.0</td>\n",
       "    </tr>\n",
       "    <tr>\n",
       "      <th>10</th>\n",
       "      <td>25</td>\n",
       "      <td>4</td>\n",
       "      <td>9</td>\n",
       "      <td>0.0</td>\n",
       "      <td>N</td>\n",
       "      <td>1.0</td>\n",
       "      <td>1.0</td>\n",
       "      <td>4.130</td>\n",
       "      <td>N</td>\n",
       "      <td>1</td>\n",
       "      <td>10</td>\n",
       "      <td>1</td>\n",
       "      <td>0.0</td>\n",
       "      <td>0</td>\n",
       "      <td>3</td>\n",
       "      <td>25.7</td>\n",
       "      <td>X</td>\n",
       "      <td>4.0</td>\n",
       "      <td>26</td>\n",
       "      <td>4</td>\n",
       "      <td>8.0</td>\n",
       "      <td>N</td>\n",
       "      <td>N</td>\n",
       "      <td>39.0</td>\n",
       "      <td>2.0</td>\n",
       "      <td>N</td>\n",
       "      <td>N</td>\n",
       "      <td>Surpoids</td>\n",
       "      <td>0.0</td>\n",
       "      <td>0.0</td>\n",
       "    </tr>\n",
       "    <tr>\n",
       "      <th>11</th>\n",
       "      <td>27</td>\n",
       "      <td>1</td>\n",
       "      <td>9</td>\n",
       "      <td>0.0</td>\n",
       "      <td>N</td>\n",
       "      <td>1.0</td>\n",
       "      <td>1.0</td>\n",
       "      <td>2.755</td>\n",
       "      <td>N</td>\n",
       "      <td>1</td>\n",
       "      <td>10</td>\n",
       "      <td>1</td>\n",
       "      <td>0.0</td>\n",
       "      <td>0</td>\n",
       "      <td>2</td>\n",
       "      <td>24.3</td>\n",
       "      <td>Y</td>\n",
       "      <td>6.0</td>\n",
       "      <td>26</td>\n",
       "      <td>6</td>\n",
       "      <td>8.0</td>\n",
       "      <td>N</td>\n",
       "      <td>N</td>\n",
       "      <td>40.0</td>\n",
       "      <td>2.0</td>\n",
       "      <td>N</td>\n",
       "      <td>N</td>\n",
       "      <td>Normal</td>\n",
       "      <td>0.0</td>\n",
       "      <td>0.0</td>\n",
       "    </tr>\n",
       "  </tbody>\n",
       "</table>\n",
       "</div>"
      ],
      "text/plain": [
       "    age_mere  ordre_naissance  previs  ...  poids_cat diabete  hypertension\n",
       "0         30                4       8  ...     Normal     0.0           0.0\n",
       "2         28                2      17  ...     Normal     0.0           1.0\n",
       "4         37                6      15  ...     Faible     0.0           0.0\n",
       "10        25                4       9  ...   Surpoids     0.0           0.0\n",
       "11        27                1       9  ...     Normal     0.0           0.0\n",
       "\n",
       "[5 rows x 30 columns]"
      ]
     },
     "execution_count": 95,
     "metadata": {
      "tags": []
     },
     "output_type": "execute_result"
    }
   ],
   "source": [
    "#5 1er enfants de sexe masculin dans l'ordre d'apparition dans la base\n",
    "babies[babies[\"sex\"]==1].head(5)"
   ]
  },
  {
   "cell_type": "code",
   "execution_count": 96,
   "metadata": {
    "colab": {
     "base_uri": "https://localhost:8080/",
     "height": 226
    },
    "id": "v9wx0WqxBSAN",
    "outputId": "5978b1ae-9f7a-4782-ca68-c5bce7d9f8ee"
   },
   "outputs": [
    {
     "data": {
      "text/html": [
       "<div>\n",
       "<style scoped>\n",
       "    .dataframe tbody tr th:only-of-type {\n",
       "        vertical-align: middle;\n",
       "    }\n",
       "\n",
       "    .dataframe tbody tr th {\n",
       "        vertical-align: top;\n",
       "    }\n",
       "\n",
       "    .dataframe thead th {\n",
       "        text-align: right;\n",
       "    }\n",
       "</style>\n",
       "<table border=\"1\" class=\"dataframe\">\n",
       "  <thead>\n",
       "    <tr style=\"text-align: right;\">\n",
       "      <th></th>\n",
       "      <th>age_mere</th>\n",
       "      <th>ordre_naissance</th>\n",
       "      <th>previs</th>\n",
       "      <th>wic</th>\n",
       "      <th>rf_pdiab</th>\n",
       "      <th>dplural</th>\n",
       "      <th>sex</th>\n",
       "      <th>poids_bebe</th>\n",
       "      <th>rf_gdiab</th>\n",
       "      <th>born_hopital</th>\n",
       "      <th>mere_race</th>\n",
       "      <th>pere_race</th>\n",
       "      <th>mere_fumeuse</th>\n",
       "      <th>nbre_cigarette_daily</th>\n",
       "      <th>imc_rec</th>\n",
       "      <th>imc</th>\n",
       "      <th>medoc_fertilite</th>\n",
       "      <th>niv_educ_mere</th>\n",
       "      <th>age_pere</th>\n",
       "      <th>niv_educ_pere</th>\n",
       "      <th>apgar5</th>\n",
       "      <th>rf_phype</th>\n",
       "      <th>rf_ghype</th>\n",
       "      <th>duree_grossesse</th>\n",
       "      <th>naissance_premature</th>\n",
       "      <th>ca_downs</th>\n",
       "      <th>ca_limb</th>\n",
       "      <th>poids_cat</th>\n",
       "      <th>diabete</th>\n",
       "      <th>hypertension</th>\n",
       "    </tr>\n",
       "  </thead>\n",
       "  <tbody>\n",
       "    <tr>\n",
       "      <th>659</th>\n",
       "      <td>26</td>\n",
       "      <td>5</td>\n",
       "      <td>8</td>\n",
       "      <td>1.0</td>\n",
       "      <td>N</td>\n",
       "      <td>2.0</td>\n",
       "      <td>0.0</td>\n",
       "      <td>0.945</td>\n",
       "      <td>N</td>\n",
       "      <td>1</td>\n",
       "      <td>30</td>\n",
       "      <td>3</td>\n",
       "      <td>NaN</td>\n",
       "      <td>4</td>\n",
       "      <td>6</td>\n",
       "      <td>46.0</td>\n",
       "      <td>X</td>\n",
       "      <td>3.0</td>\n",
       "      <td>25</td>\n",
       "      <td>3</td>\n",
       "      <td>4.0</td>\n",
       "      <td>N</td>\n",
       "      <td>N</td>\n",
       "      <td>25.0</td>\n",
       "      <td>1.0</td>\n",
       "      <td>N</td>\n",
       "      <td>N</td>\n",
       "      <td>Faible</td>\n",
       "      <td>0.0</td>\n",
       "      <td>0.0</td>\n",
       "    </tr>\n",
       "    <tr>\n",
       "      <th>898</th>\n",
       "      <td>30</td>\n",
       "      <td>1</td>\n",
       "      <td>99</td>\n",
       "      <td>0.0</td>\n",
       "      <td>N</td>\n",
       "      <td>2.0</td>\n",
       "      <td>0.0</td>\n",
       "      <td>1.920</td>\n",
       "      <td>N</td>\n",
       "      <td>1</td>\n",
       "      <td>10</td>\n",
       "      <td>1</td>\n",
       "      <td>0.0</td>\n",
       "      <td>0</td>\n",
       "      <td>6</td>\n",
       "      <td>42.1</td>\n",
       "      <td>Y</td>\n",
       "      <td>4.0</td>\n",
       "      <td>33</td>\n",
       "      <td>4</td>\n",
       "      <td>8.0</td>\n",
       "      <td>N</td>\n",
       "      <td>N</td>\n",
       "      <td>33.0</td>\n",
       "      <td>1.0</td>\n",
       "      <td>N</td>\n",
       "      <td>N</td>\n",
       "      <td>Faible</td>\n",
       "      <td>0.0</td>\n",
       "      <td>0.0</td>\n",
       "    </tr>\n",
       "    <tr>\n",
       "      <th>899</th>\n",
       "      <td>30</td>\n",
       "      <td>2</td>\n",
       "      <td>99</td>\n",
       "      <td>0.0</td>\n",
       "      <td>N</td>\n",
       "      <td>2.0</td>\n",
       "      <td>0.0</td>\n",
       "      <td>1.940</td>\n",
       "      <td>N</td>\n",
       "      <td>1</td>\n",
       "      <td>10</td>\n",
       "      <td>1</td>\n",
       "      <td>0.0</td>\n",
       "      <td>0</td>\n",
       "      <td>6</td>\n",
       "      <td>42.1</td>\n",
       "      <td>Y</td>\n",
       "      <td>4.0</td>\n",
       "      <td>33</td>\n",
       "      <td>4</td>\n",
       "      <td>8.0</td>\n",
       "      <td>N</td>\n",
       "      <td>N</td>\n",
       "      <td>33.0</td>\n",
       "      <td>1.0</td>\n",
       "      <td>N</td>\n",
       "      <td>N</td>\n",
       "      <td>Faible</td>\n",
       "      <td>0.0</td>\n",
       "      <td>0.0</td>\n",
       "    </tr>\n",
       "    <tr>\n",
       "      <th>3280</th>\n",
       "      <td>23</td>\n",
       "      <td>4</td>\n",
       "      <td>13</td>\n",
       "      <td>0.0</td>\n",
       "      <td>N</td>\n",
       "      <td>2.0</td>\n",
       "      <td>0.0</td>\n",
       "      <td>2.888</td>\n",
       "      <td>Y</td>\n",
       "      <td>1</td>\n",
       "      <td>10</td>\n",
       "      <td>1</td>\n",
       "      <td>0.0</td>\n",
       "      <td>0</td>\n",
       "      <td>6</td>\n",
       "      <td>56.1</td>\n",
       "      <td>X</td>\n",
       "      <td>5.0</td>\n",
       "      <td>24</td>\n",
       "      <td>4</td>\n",
       "      <td>8.0</td>\n",
       "      <td>N</td>\n",
       "      <td>N</td>\n",
       "      <td>37.0</td>\n",
       "      <td>2.0</td>\n",
       "      <td>N</td>\n",
       "      <td>N</td>\n",
       "      <td>Normal</td>\n",
       "      <td>1.0</td>\n",
       "      <td>0.0</td>\n",
       "    </tr>\n",
       "    <tr>\n",
       "      <th>4531</th>\n",
       "      <td>28</td>\n",
       "      <td>4</td>\n",
       "      <td>14</td>\n",
       "      <td>1.0</td>\n",
       "      <td>N</td>\n",
       "      <td>2.0</td>\n",
       "      <td>0.0</td>\n",
       "      <td>2.415</td>\n",
       "      <td>N</td>\n",
       "      <td>1</td>\n",
       "      <td>20</td>\n",
       "      <td>2</td>\n",
       "      <td>0.0</td>\n",
       "      <td>0</td>\n",
       "      <td>6</td>\n",
       "      <td>57.7</td>\n",
       "      <td>X</td>\n",
       "      <td>2.0</td>\n",
       "      <td>27</td>\n",
       "      <td>2</td>\n",
       "      <td>5.0</td>\n",
       "      <td>N</td>\n",
       "      <td>N</td>\n",
       "      <td>36.0</td>\n",
       "      <td>1.0</td>\n",
       "      <td>N</td>\n",
       "      <td>N</td>\n",
       "      <td>Faible</td>\n",
       "      <td>0.0</td>\n",
       "      <td>0.0</td>\n",
       "    </tr>\n",
       "  </tbody>\n",
       "</table>\n",
       "</div>"
      ],
      "text/plain": [
       "      age_mere  ordre_naissance  previs  ...  poids_cat diabete  hypertension\n",
       "659         26                5       8  ...     Faible     0.0           0.0\n",
       "898         30                1      99  ...     Faible     0.0           0.0\n",
       "899         30                2      99  ...     Faible     0.0           0.0\n",
       "3280        23                4      13  ...     Normal     1.0           0.0\n",
       "4531        28                4      14  ...     Faible     0.0           0.0\n",
       "\n",
       "[5 rows x 30 columns]"
      ]
     },
     "execution_count": 96,
     "metadata": {
      "tags": []
     },
     "output_type": "execute_result"
    }
   ],
   "source": [
    "#5 1er enfants de sexe féminin, jumeaux et d'une mère obèse de niveau I\n",
    "babies[\n",
    "       (babies[\"sex\"]==0) & \n",
    "       (babies[\"dplural\"]==2) & \n",
    "       (babies[\"imc_rec\"] ==6)\n",
    "       ].head(5)"
   ]
  },
  {
   "cell_type": "markdown",
   "metadata": {
    "id": "tN3y5FWq40m4"
   },
   "source": [
    "# Jointure de tables"
   ]
  },
  {
   "cell_type": "code",
   "execution_count": 97,
   "metadata": {
    "colab": {
     "base_uri": "https://localhost:8080/",
     "height": 206
    },
    "id": "E7jkCtCn45KP",
    "outputId": "4389f69b-7fa8-4ce4-d3bd-ec2185473dc0"
   },
   "outputs": [
    {
     "data": {
      "text/html": [
       "<div>\n",
       "<style scoped>\n",
       "    .dataframe tbody tr th:only-of-type {\n",
       "        vertical-align: middle;\n",
       "    }\n",
       "\n",
       "    .dataframe tbody tr th {\n",
       "        vertical-align: top;\n",
       "    }\n",
       "\n",
       "    .dataframe thead th {\n",
       "        text-align: right;\n",
       "    }\n",
       "</style>\n",
       "<table border=\"1\" class=\"dataframe\">\n",
       "  <thead>\n",
       "    <tr style=\"text-align: right;\">\n",
       "      <th></th>\n",
       "      <th>imc_x</th>\n",
       "      <th>sex_x</th>\n",
       "      <th>poids_bebe_x</th>\n",
       "      <th>age_mere</th>\n",
       "      <th>imc_y</th>\n",
       "      <th>sex_y</th>\n",
       "      <th>poids_bebe_y</th>\n",
       "      <th>born_hopital</th>\n",
       "    </tr>\n",
       "  </thead>\n",
       "  <tbody>\n",
       "    <tr>\n",
       "      <th>262</th>\n",
       "      <td>28.5</td>\n",
       "      <td>1.0</td>\n",
       "      <td>3.510</td>\n",
       "      <td>17</td>\n",
       "      <td>28.5</td>\n",
       "      <td>1.0</td>\n",
       "      <td>3.510</td>\n",
       "      <td>1</td>\n",
       "    </tr>\n",
       "    <tr>\n",
       "      <th>461</th>\n",
       "      <td>24.2</td>\n",
       "      <td>1.0</td>\n",
       "      <td>3.365</td>\n",
       "      <td>17</td>\n",
       "      <td>24.2</td>\n",
       "      <td>1.0</td>\n",
       "      <td>3.365</td>\n",
       "      <td>1</td>\n",
       "    </tr>\n",
       "    <tr>\n",
       "      <th>637</th>\n",
       "      <td>24.1</td>\n",
       "      <td>1.0</td>\n",
       "      <td>3.370</td>\n",
       "      <td>17</td>\n",
       "      <td>24.1</td>\n",
       "      <td>1.0</td>\n",
       "      <td>3.370</td>\n",
       "      <td>1</td>\n",
       "    </tr>\n",
       "    <tr>\n",
       "      <th>680</th>\n",
       "      <td>17.6</td>\n",
       "      <td>1.0</td>\n",
       "      <td>2.715</td>\n",
       "      <td>17</td>\n",
       "      <td>17.6</td>\n",
       "      <td>1.0</td>\n",
       "      <td>2.715</td>\n",
       "      <td>1</td>\n",
       "    </tr>\n",
       "    <tr>\n",
       "      <th>1082</th>\n",
       "      <td>26.1</td>\n",
       "      <td>0.0</td>\n",
       "      <td>3.585</td>\n",
       "      <td>17</td>\n",
       "      <td>26.1</td>\n",
       "      <td>0.0</td>\n",
       "      <td>3.585</td>\n",
       "      <td>1</td>\n",
       "    </tr>\n",
       "  </tbody>\n",
       "</table>\n",
       "</div>"
      ],
      "text/plain": [
       "      imc_x  sex_x  poids_bebe_x  ...  sex_y  poids_bebe_y  born_hopital\n",
       "262    28.5    1.0         3.510  ...    1.0         3.510             1\n",
       "461    24.2    1.0         3.365  ...    1.0         3.365             1\n",
       "637    24.1    1.0         3.370  ...    1.0         3.370             1\n",
       "680    17.6    1.0         2.715  ...    1.0         2.715             1\n",
       "1082   26.1    0.0         3.585  ...    0.0         3.585             1\n",
       "\n",
       "[5 rows x 8 columns]"
      ]
     },
     "execution_count": 97,
     "metadata": {
      "tags": []
     },
     "output_type": "execute_result"
    }
   ],
   "source": [
    "#Considérons la table des bébées issues de mères mineures, pour simplifier nous ne prenons pas toutes les variables\n",
    "babies_meres_mineures= babies[babies[\"age_mere\"]<18][[\"imc\",\"sex\",\"poids_bebe\",\"age_mere\"]]\n",
    "\n",
    "#Considérons la table des bébés qui sont nés à l'hopital \n",
    "babies_born_hospital = babies[babies[\"born_hopital\"]==1][[\"imc\",\"sex\",\"poids_bebe\",\"born_hopital\"]]\n",
    "\n",
    "#Jointure strict entre l'index des individus\n",
    "babies_jointure1 = babies_meres_mineures.merge(babies_born_hospital,left_index=True,right_index=True)\n",
    "\n",
    "babies_jointure1.head()"
   ]
  },
  {
   "cell_type": "code",
   "execution_count": 98,
   "metadata": {
    "colab": {
     "base_uri": "https://localhost:8080/",
     "height": 206
    },
    "id": "7MLIiN51A2MI",
    "outputId": "9ce0beb2-6cc9-427d-a5c8-3c094bed47c9"
   },
   "outputs": [
    {
     "data": {
      "text/html": [
       "<div>\n",
       "<style scoped>\n",
       "    .dataframe tbody tr th:only-of-type {\n",
       "        vertical-align: middle;\n",
       "    }\n",
       "\n",
       "    .dataframe tbody tr th {\n",
       "        vertical-align: top;\n",
       "    }\n",
       "\n",
       "    .dataframe thead th {\n",
       "        text-align: right;\n",
       "    }\n",
       "</style>\n",
       "<table border=\"1\" class=\"dataframe\">\n",
       "  <thead>\n",
       "    <tr style=\"text-align: right;\">\n",
       "      <th></th>\n",
       "      <th>imc_x</th>\n",
       "      <th>sex_x</th>\n",
       "      <th>poids_bebe_x</th>\n",
       "      <th>age_mere</th>\n",
       "      <th>imc_y</th>\n",
       "      <th>sex_y</th>\n",
       "      <th>poids_bebe_y</th>\n",
       "      <th>born_hopital</th>\n",
       "    </tr>\n",
       "  </thead>\n",
       "  <tbody>\n",
       "    <tr>\n",
       "      <th>262</th>\n",
       "      <td>28.5</td>\n",
       "      <td>1.0</td>\n",
       "      <td>3.510</td>\n",
       "      <td>17</td>\n",
       "      <td>28.5</td>\n",
       "      <td>1.0</td>\n",
       "      <td>3.510</td>\n",
       "      <td>1.0</td>\n",
       "    </tr>\n",
       "    <tr>\n",
       "      <th>461</th>\n",
       "      <td>24.2</td>\n",
       "      <td>1.0</td>\n",
       "      <td>3.365</td>\n",
       "      <td>17</td>\n",
       "      <td>24.2</td>\n",
       "      <td>1.0</td>\n",
       "      <td>3.365</td>\n",
       "      <td>1.0</td>\n",
       "    </tr>\n",
       "    <tr>\n",
       "      <th>637</th>\n",
       "      <td>24.1</td>\n",
       "      <td>1.0</td>\n",
       "      <td>3.370</td>\n",
       "      <td>17</td>\n",
       "      <td>24.1</td>\n",
       "      <td>1.0</td>\n",
       "      <td>3.370</td>\n",
       "      <td>1.0</td>\n",
       "    </tr>\n",
       "    <tr>\n",
       "      <th>680</th>\n",
       "      <td>17.6</td>\n",
       "      <td>1.0</td>\n",
       "      <td>2.715</td>\n",
       "      <td>17</td>\n",
       "      <td>17.6</td>\n",
       "      <td>1.0</td>\n",
       "      <td>2.715</td>\n",
       "      <td>1.0</td>\n",
       "    </tr>\n",
       "    <tr>\n",
       "      <th>1082</th>\n",
       "      <td>26.1</td>\n",
       "      <td>0.0</td>\n",
       "      <td>3.585</td>\n",
       "      <td>17</td>\n",
       "      <td>26.1</td>\n",
       "      <td>0.0</td>\n",
       "      <td>3.585</td>\n",
       "      <td>1.0</td>\n",
       "    </tr>\n",
       "  </tbody>\n",
       "</table>\n",
       "</div>"
      ],
      "text/plain": [
       "      imc_x  sex_x  poids_bebe_x  ...  sex_y  poids_bebe_y  born_hopital\n",
       "262    28.5    1.0         3.510  ...    1.0         3.510           1.0\n",
       "461    24.2    1.0         3.365  ...    1.0         3.365           1.0\n",
       "637    24.1    1.0         3.370  ...    1.0         3.370           1.0\n",
       "680    17.6    1.0         2.715  ...    1.0         2.715           1.0\n",
       "1082   26.1    0.0         3.585  ...    0.0         3.585           1.0\n",
       "\n",
       "[5 rows x 8 columns]"
      ]
     },
     "execution_count": 98,
     "metadata": {
      "tags": []
     },
     "output_type": "execute_result"
    }
   ],
   "source": [
    "#Jointure à droite entre les tables précédentes\n",
    "#Tous les bébés mères mineures sont pris en compte, qu'ils aient une correspondance dans l'autre table ou pas\n",
    "babies_jointure2 =  babies_meres_mineures.merge(babies_born_hospital,how=\"left\",left_index=True,right_index=True)\n",
    "babies_jointure2.head()"
   ]
  },
  {
   "cell_type": "markdown",
   "metadata": {
    "id": "14gvQYRz10e5"
   },
   "source": [
    "## Agrégation \n",
    "poids moyen,écart type,poids minimum et poids maximal par sexe"
   ]
  },
  {
   "cell_type": "code",
   "execution_count": 99,
   "metadata": {
    "colab": {
     "base_uri": "https://localhost:8080/",
     "height": 175
    },
    "id": "Zusgcw8r2KfM",
    "outputId": "9de43510-0a4e-4301-ad0f-9e73941333a4"
   },
   "outputs": [
    {
     "data": {
      "text/html": [
       "<div>\n",
       "<style scoped>\n",
       "    .dataframe tbody tr th:only-of-type {\n",
       "        vertical-align: middle;\n",
       "    }\n",
       "\n",
       "    .dataframe tbody tr th {\n",
       "        vertical-align: top;\n",
       "    }\n",
       "\n",
       "    .dataframe thead tr th {\n",
       "        text-align: left;\n",
       "    }\n",
       "\n",
       "    .dataframe thead tr:last-of-type th {\n",
       "        text-align: right;\n",
       "    }\n",
       "</style>\n",
       "<table border=\"1\" class=\"dataframe\">\n",
       "  <thead>\n",
       "    <tr>\n",
       "      <th></th>\n",
       "      <th colspan=\"4\" halign=\"left\">poids_bebe</th>\n",
       "    </tr>\n",
       "    <tr>\n",
       "      <th></th>\n",
       "      <th>mean</th>\n",
       "      <th>std</th>\n",
       "      <th>min</th>\n",
       "      <th>max</th>\n",
       "    </tr>\n",
       "    <tr>\n",
       "      <th>sex</th>\n",
       "      <th></th>\n",
       "      <th></th>\n",
       "      <th></th>\n",
       "      <th></th>\n",
       "    </tr>\n",
       "  </thead>\n",
       "  <tbody>\n",
       "    <tr>\n",
       "      <th>0.0</th>\n",
       "      <td>3.203972</td>\n",
       "      <td>0.573976</td>\n",
       "      <td>0.227</td>\n",
       "      <td>8.165</td>\n",
       "    </tr>\n",
       "    <tr>\n",
       "      <th>1.0</th>\n",
       "      <td>3.317689</td>\n",
       "      <td>0.601514</td>\n",
       "      <td>0.227</td>\n",
       "      <td>8.165</td>\n",
       "    </tr>\n",
       "  </tbody>\n",
       "</table>\n",
       "</div>"
      ],
      "text/plain": [
       "    poids_bebe                        \n",
       "          mean       std    min    max\n",
       "sex                                   \n",
       "0.0   3.203972  0.573976  0.227  8.165\n",
       "1.0   3.317689  0.601514  0.227  8.165"
      ]
     },
     "execution_count": 99,
     "metadata": {
      "tags": []
     },
     "output_type": "execute_result"
    }
   ],
   "source": [
    "babies.groupby(\"sex\").agg({\"poids_bebe\":['mean','std','min','max']})"
   ]
  },
  {
   "cell_type": "markdown",
   "metadata": {
    "id": "vsf8psA6tyqb"
   },
   "source": [
    "Le poids moyen des bébés de sexe masculin est de 3,3 Kg, de même que les bébés de sexe féminin soit 3.2 Kg comme poids moyen, Le bébés de sexe masculin sont ont en moyenne des poids plus élevés que ceux de sexe féminin\n",
    "Quelque soit le sexe, le poids le plus petit est 0,2 kg et le plus élevé est 8,2 Kg"
   ]
  },
  {
   "cell_type": "markdown",
   "metadata": {
    "id": "3_vCHLyKozhr"
   },
   "source": [
    "# Statistique descriptive de quelques variables\n",
    "\n",
    "\n"
   ]
  },
  {
   "cell_type": "code",
   "execution_count": 100,
   "metadata": {
    "colab": {
     "base_uri": "https://localhost:8080/",
     "height": 300
    },
    "id": "TafZQCgeo5Lr",
    "outputId": "00842b42-071a-40c1-e3d8-8b802051ad08"
   },
   "outputs": [
    {
     "data": {
      "text/html": [
       "<div>\n",
       "<style scoped>\n",
       "    .dataframe tbody tr th:only-of-type {\n",
       "        vertical-align: middle;\n",
       "    }\n",
       "\n",
       "    .dataframe tbody tr th {\n",
       "        vertical-align: top;\n",
       "    }\n",
       "\n",
       "    .dataframe thead th {\n",
       "        text-align: right;\n",
       "    }\n",
       "</style>\n",
       "<table border=\"1\" class=\"dataframe\">\n",
       "  <thead>\n",
       "    <tr style=\"text-align: right;\">\n",
       "      <th></th>\n",
       "      <th>poids_bebe</th>\n",
       "      <th>imc</th>\n",
       "      <th>age_mere</th>\n",
       "      <th>age_pere</th>\n",
       "      <th>duree_grossesse</th>\n",
       "    </tr>\n",
       "  </thead>\n",
       "  <tbody>\n",
       "    <tr>\n",
       "      <th>count</th>\n",
       "      <td>2.423751e+06</td>\n",
       "      <td>2.366215e+06</td>\n",
       "      <td>2.425269e+06</td>\n",
       "      <td>2.161588e+06</td>\n",
       "      <td>2.423758e+06</td>\n",
       "    </tr>\n",
       "    <tr>\n",
       "      <th>mean</th>\n",
       "      <td>3.262086e+00</td>\n",
       "      <td>2.720634e+01</td>\n",
       "      <td>2.912653e+01</td>\n",
       "      <td>3.191717e+01</td>\n",
       "      <td>3.858586e+01</td>\n",
       "    </tr>\n",
       "    <tr>\n",
       "      <th>std</th>\n",
       "      <td>5.909505e-01</td>\n",
       "      <td>6.747719e+00</td>\n",
       "      <td>5.808076e+00</td>\n",
       "      <td>6.824224e+00</td>\n",
       "      <td>2.476832e+00</td>\n",
       "    </tr>\n",
       "    <tr>\n",
       "      <th>min</th>\n",
       "      <td>2.270000e-01</td>\n",
       "      <td>1.300000e+01</td>\n",
       "      <td>1.200000e+01</td>\n",
       "      <td>1.100000e+01</td>\n",
       "      <td>1.700000e+01</td>\n",
       "    </tr>\n",
       "    <tr>\n",
       "      <th>25%</th>\n",
       "      <td>2.960000e+00</td>\n",
       "      <td>2.230000e+01</td>\n",
       "      <td>2.500000e+01</td>\n",
       "      <td>2.700000e+01</td>\n",
       "      <td>3.800000e+01</td>\n",
       "    </tr>\n",
       "    <tr>\n",
       "      <th>50%</th>\n",
       "      <td>3.300000e+00</td>\n",
       "      <td>2.570000e+01</td>\n",
       "      <td>2.900000e+01</td>\n",
       "      <td>3.200000e+01</td>\n",
       "      <td>3.900000e+01</td>\n",
       "    </tr>\n",
       "    <tr>\n",
       "      <th>75%</th>\n",
       "      <td>3.629000e+00</td>\n",
       "      <td>3.070000e+01</td>\n",
       "      <td>3.300000e+01</td>\n",
       "      <td>3.600000e+01</td>\n",
       "      <td>4.000000e+01</td>\n",
       "    </tr>\n",
       "    <tr>\n",
       "      <th>max</th>\n",
       "      <td>8.165000e+00</td>\n",
       "      <td>6.990000e+01</td>\n",
       "      <td>5.000000e+01</td>\n",
       "      <td>9.500000e+01</td>\n",
       "      <td>4.700000e+01</td>\n",
       "    </tr>\n",
       "  </tbody>\n",
       "</table>\n",
       "</div>"
      ],
      "text/plain": [
       "         poids_bebe           imc      age_mere      age_pere  duree_grossesse\n",
       "count  2.423751e+06  2.366215e+06  2.425269e+06  2.161588e+06     2.423758e+06\n",
       "mean   3.262086e+00  2.720634e+01  2.912653e+01  3.191717e+01     3.858586e+01\n",
       "std    5.909505e-01  6.747719e+00  5.808076e+00  6.824224e+00     2.476832e+00\n",
       "min    2.270000e-01  1.300000e+01  1.200000e+01  1.100000e+01     1.700000e+01\n",
       "25%    2.960000e+00  2.230000e+01  2.500000e+01  2.700000e+01     3.800000e+01\n",
       "50%    3.300000e+00  2.570000e+01  2.900000e+01  3.200000e+01     3.900000e+01\n",
       "75%    3.629000e+00  3.070000e+01  3.300000e+01  3.600000e+01     4.000000e+01\n",
       "max    8.165000e+00  6.990000e+01  5.000000e+01  9.500000e+01     4.700000e+01"
      ]
     },
     "execution_count": 100,
     "metadata": {
      "tags": []
     },
     "output_type": "execute_result"
    }
   ],
   "source": [
    "#Indiquez à python les valeurs manquante avant de faire les statistiques\n",
    "babies.imc.replace(99.9,np.NaN,inplace=True)\n",
    "babies.age_pere.replace(99,np.NaN,inplace=True)\n",
    "babies.duree_grossesse.replace(99,np.NaN,inplace=True)\n",
    "\n",
    "\n",
    "#Statitistique descriptive de quelques variables\n",
    "babies[[\"poids_bebe\",\"imc\",\"age_mere\",\"age_pere\",\"duree_grossesse\"]].describe()"
   ]
  },
  {
   "cell_type": "markdown",
   "metadata": {
    "id": "SxS6GfqKv9QJ"
   },
   "source": [
    "En écartant les valeurs manquantes pour les variables ci-dessous on obtient l'interpretation suivante:\n",
    "- En moyenne les nouveaux nées pèse environ **3.3** kg, 50% ont un poids inférieur à *3.3* kg et 50% en ont plus, le plus grand poids est 8,16 Kg et celui ayant le plus faible poids pèse 0.22 kg, la médiane et la moyenne sont très proche (3,26 et 3,3), nous pouvons dire que le poids des bébés est une distribution symétrique, *un histogramme de celui ci nous le confirmera plus bas*.\n",
    "Par ailleurs l'écart type du poids des bébés est relativement faible soit 0,6, Donc les enfants ont en moyenne des poids relativement proche de la moyenne (3,26)\n",
    "\n",
    "- Les bébés sont en moyenne nées après 38 semaines, il ne sont donc pas en moyenne prématuré, la plus petite durée de grossesse est de 17 semaines, et la plus grande est de 47 semaines, l'écart type de la durée des grossesses est de 2 semaines et démi environ. \n",
    "\n",
    "- En moyenne l'indice de masse corporelle (imc) des mères est de 27,2, elles sont donc en moyenne en surpoids, 50% ont un imc plus bas que 25,7 et 50% en ont plus, l'imc le plus élevé est 69,9 et le plus faible est 13\n",
    "\n",
    "- l'age moyen des pères est 31 ans, le plus agé a 95 ans et le plus jeune a 11 ans\n"
   ]
  },
  {
   "cell_type": "markdown",
   "metadata": {
    "id": "0Vw89ZRlzR-s"
   },
   "source": [
    "#Fonction à appliquer au sous-groupe des races des mères"
   ]
  },
  {
   "cell_type": "code",
   "execution_count": 101,
   "metadata": {
    "id": "Eh7vlNzfoQTA"
   },
   "outputs": [],
   "source": [
    "def stats_by_group(data,sous_groupe):\n",
    "  \"\"\"\n",
    "  Renvoie un dictionnaire de donné donnant des statistiques par origine des mères sur les caractères suivants\n",
    "  l'age moyen des mères \n",
    "  l'écart type des poids des nouveaux nées\n",
    "  l'imc le plus élevé des mères\n",
    "  \"\"\"\n",
    "  #Filtrer selon la modalité fournie\n",
    "  filtre =  data[data[\"mere_race\"]==sous_groupe]\n",
    "\n",
    "  results={\"groupe\": sous_groupe}\n",
    "\n",
    "  #Age moyen des mères\n",
    "  results[\"age_moyen_mere\"] = np.floor(filtre[\"age_mere\"].mean()) #l'age moyen arrondis\n",
    "  #Poids moyen des enfants\n",
    "  results[\"poids_moyen_enfant\"]= filtre[\"poids_bebe\"].mean()\n",
    "  #Dispersion du poids des nouveaux nées par rapport à la moyenne\n",
    "  results[\"ecart_type_poids\"] = filtre[\"poids_bebe\"].std()\n",
    "  return results;"
   ]
  },
  {
   "cell_type": "markdown",
   "metadata": {
    "id": "QbGQdfWMzoN7"
   },
   "source": [
    "# Application de la fonction dans une boucle sur le sous-groupe des mères"
   ]
  },
  {
   "cell_type": "code",
   "execution_count": 102,
   "metadata": {
    "colab": {
     "base_uri": "https://localhost:8080/"
    },
    "id": "v4ZMNc5VglPb",
    "outputId": "5fbed451-b079-439b-ec9d-bc62f1684d23"
   },
   "outputs": [
    {
     "name": "stdout",
     "output_type": "stream",
     "text": [
      "{'groupe': 10, 'age_moyen_mere': 29.0, 'poids_moyen_enfant': 3.313907631132195, 'ecart_type_poids': 0.5731244156734261}\n",
      "{'groupe': 20, 'age_moyen_mere': 27.0, 'poids_moyen_enfant': 3.0732037151612075, 'ecart_type_poids': 0.6418678904357176}\n",
      "{'groupe': 40, 'age_moyen_mere': 32.0, 'poids_moyen_enfant': 3.169223599681916, 'ecart_type_poids': 0.5364868704845852}\n",
      "{'groupe': 61, 'age_moyen_mere': 27.0, 'poids_moyen_enfant': 3.239011590625067, 'ecart_type_poids': 0.5980283419507243}\n",
      "{'groupe': 41, 'age_moyen_mere': 30.0, 'poids_moyen_enfant': 3.1779210324559193, 'ecart_type_poids': 0.5503100148485823}\n",
      "{'groupe': 30, 'age_moyen_mere': 27.0, 'poids_moyen_enfant': 3.2955655042412797, 'ecart_type_poids': 0.6092294392369916}\n",
      "{'groupe': 51, 'age_moyen_mere': 28.0, 'poids_moyen_enfant': 3.262738390469221, 'ecart_type_poids': 0.6168713770369428}\n"
     ]
    }
   ],
   "source": [
    "#Sortie les statistiques par origine des mères\n",
    "list_stats = []\n",
    "for modalite in babies.mere_race.value_counts().index:\n",
    "  list_stats.append(stats_by_group(babies,modalite))\n",
    "#Affichons la liste des résultats\n",
    "print(*list_stats,sep='\\n')"
   ]
  },
  {
   "cell_type": "markdown",
   "metadata": {
    "id": "u8m1m1SyXpEd"
   },
   "source": [
    "# Quelques représentations graphiques\n"
   ]
  },
  {
   "cell_type": "markdown",
   "metadata": {
    "id": "gGAWFJXHyXU_"
   },
   "source": [
    "## Diagramme en secteur de la pluralité des naissances"
   ]
  },
  {
   "cell_type": "code",
   "execution_count": 103,
   "metadata": {
    "colab": {
     "base_uri": "https://localhost:8080/",
     "height": 248
    },
    "id": "tgv4Yv42qX6L",
    "outputId": "3301b7b3-6877-4c63-f493-9e712b9d7f08"
   },
   "outputs": [
    {
     "data": {
      "image/png": "[encoded data removed]",
      "text/plain": [
       "<Figure size 432x288 with 1 Axes>"
      ]
     },
     "metadata": {
      "tags": []
     },
     "output_type": "display_data"
    }
   ],
   "source": [
    "#Recupérer la distribution des fréquences du sexe des enfants\n",
    "sex_freq=babies.naissance_premature.value_counts()\n",
    "#Représenter un diagramme ciruculaire du sexe des bébés\n",
    "plt.pie(sex_freq.values,labels=[\"Non Prématurée\",\"Prématurée\"],autopct=\"%23.2f%%\",shadow=True )\n",
    "plt.show()"
   ]
  },
  {
   "cell_type": "markdown",
   "metadata": {
    "id": "oM-4uSHMy4F0"
   },
   "source": [
    "11,70% des nouveaux nées sont des prématurées et 88,3% sont nées dans une durée normale\n"
   ]
  },
  {
   "cell_type": "markdown",
   "metadata": {
    "id": "nr5rakanrDLI"
   },
   "source": [
    "## Point nuage entre l'indice de masse corporelle des mères et le poids de leurs bébés\n"
   ]
  },
  {
   "cell_type": "code",
   "execution_count": 104,
   "metadata": {
    "colab": {
     "base_uri": "https://localhost:8080/",
     "height": 284
    },
    "id": "QgUxaJO4Y-0l",
    "outputId": "e028e94d-ba68-4881-88ca-e42e244d3c2a"
   },
   "outputs": [
    {
     "data": {
      "image/png": "[encoded data removed]",
      "text/plain": [
       "<Figure size 432x288 with 1 Axes>"
      ]
     },
     "metadata": {
      "needs_background": "light",
      "tags": []
     },
     "output_type": "display_data"
    }
   ],
   "source": [
    "#Vue que les valeurs des bébés prennent de grandes valeurs en décimale\n",
    "nuages = plt.scatter(babies.poids_bebe,babies.imc) \n",
    "nuages.axes.set_title(\"Point nuage du poids des enfants et de l'imc des mères\",fontSize=15)\n",
    "plt.show()"
   ]
  },
  {
   "cell_type": "markdown",
   "metadata": {
    "id": "3JFJSu1H-RGa"
   },
   "source": [
    "Du graphique on remarque qu'il n'y a pas une correlation linéaire simple entre le poids du nouveau né et l'indice de masse corporelle (IMC) de la mère, mais il y a une présomption d'une relation non linéaire sous la forme d'un disque.\n"
   ]
  },
  {
   "cell_type": "markdown",
   "metadata": {
    "id": "1PYW56mk0eXk"
   },
   "source": [
    "## Diagramme en barres du niveau d'instruction des mères"
   ]
  },
  {
   "cell_type": "code",
   "execution_count": 105,
   "metadata": {
    "colab": {
     "base_uri": "https://localhost:8080/",
     "height": 405
    },
    "id": "OY2cQ1yqbNHu",
    "outputId": "9137f10c-a4cf-4fdf-9eae-c51d7bcfdfd5"
   },
   "outputs": [
    {
     "data": {
      "image/png": "[encoded data removed]",
      "text/plain": [
       "<Figure size 432x288 with 1 Axes>"
      ]
     },
     "metadata": {
      "needs_background": "light",
      "tags": []
     },
     "output_type": "display_data"
    }
   ],
   "source": [
    "#Récupérer les fréquences relatives du niveau d'études des mères\n",
    "freq_niv_educ_mere = babies.niv_educ_mere.value_counts()\n",
    "\n",
    "#Définir quelques couleurs pour la représentation\n",
    "colors = [\"cyan\",\"orange\",\"gray\",\"green\",\"blue\",\"yellow\",\"pink\",\"black\"]\n",
    "\n",
    "#Les valeurs des modalités \n",
    "labels_niveau_education = [\"Secondaire ou Bac\",\"Universitaire sans diplôme\",\"Licence\",\"BEPC au plus\",\"Maitrise ou Master\",\"Diplôme d'associé\",\"CEP au plus\",\"Au moins Doctorat\"]\n",
    "coordonnees_modalites = np.arange(8) -0.35/2\n",
    "fig,axes = plt.subplots()\n",
    "\n",
    "#Un titre pour notre diagramme en barres\n",
    "axes.set_title(\"Distribution du niveau d'éducation des mères\",fontSize=15)\n",
    "\n",
    "#Fixer la position des modalités sur l'axe des abcisses\n",
    "axes.set_xticks(coordonnees_modalites) \n",
    "\n",
    "#Définir la description des modalités\n",
    "axes.set_xticklabels(labels_niveau_education,rotation=75)\n",
    "\n",
    "#Créer le graphique\n",
    "plt.bar (coordonnees_modalites,freq_niv_educ_mere.values,color=colors)\n",
    "plt.grid(True)\n",
    "plt.show()\n"
   ]
  },
  {
   "cell_type": "markdown",
   "metadata": {
    "id": "AgCDKTTYf1XH"
   },
   "source": [
    "La majorité des mères de la population on un niveau scolaire élevés, pour la plutpart elle ont un niveau scolaire atteignant la classe secondaire, comme nous le montre le graphique."
   ]
  },
  {
   "cell_type": "code",
   "execution_count": 106,
   "metadata": {
    "colab": {
     "base_uri": "https://localhost:8080/",
     "height": 350
    },
    "id": "fXZIJbgbm7Mr",
    "outputId": "84d9bbfd-92e8-40a1-a6f0-134ee0f6ae9a"
   },
   "outputs": [
    {
     "name": "stderr",
     "output_type": "stream",
     "text": [
      "/usr/local/lib/python3.6/dist-packages/numpy/lib/histograms.py:839: RuntimeWarning: invalid value encountered in greater_equal\n",
      "  keep = (tmp_a >= first_edge)\n",
      "/usr/local/lib/python3.6/dist-packages/numpy/lib/histograms.py:840: RuntimeWarning: invalid value encountered in less_equal\n",
      "  keep &= (tmp_a <= last_edge)\n"
     ]
    },
    {
     "data": {
      "image/png": "[encoded data removed]",
      "text/plain": [
       "<Figure size 432x288 with 1 Axes>"
      ]
     },
     "metadata": {
      "needs_background": "light",
      "tags": []
     },
     "output_type": "display_data"
    }
   ],
   "source": [
    "#Histogramme du poids des enfants\n",
    "hist = plt.hist(babies.poids_bebe)\n",
    "plt.grid(True)\n",
    "plt.title(\"Histogramme de fréquence du poids des enfants\")\n",
    "plt.show()"
   ]
  },
  {
   "cell_type": "markdown",
   "metadata": {
    "id": "HYrK45Zi3pOy"
   },
   "source": [
    "Comme on le présentait dans l'analyse descriptive on voit bien que la distribution du poids des bébés est plus ou moins symétrique autour de la moyenne, et que la variance autour de cette moyenne est relativement faible."
   ]
  },
  {
   "cell_type": "markdown",
   "metadata": {
    "id": "l0YEtX79npXM"
   },
   "source": [
    "# Exportations de la base extraites sous format csv\n"
   ]
  },
  {
   "cell_type": "code",
   "execution_count": 45,
   "metadata": {
    "id": "unaLVuCtn09g"
   },
   "outputs": [],
   "source": [
    "babies.to_csv(\"babies.csv\")"
   ]
  },
  {
   "cell_type": "markdown",
   "metadata": {
    "id": "uZ81eBnh7GEe"
   },
   "source": [
    "# Exportation des tables pour la partie SQL\n",
    "Etant donné que nous n'avons pas accès aux identifiants des individus, nous avons utilisé les numéros de ligne comme identifiant"
   ]
  },
  {
   "cell_type": "markdown",
   "metadata": {
    "id": "_btsA93D7Rqt"
   },
   "source": [
    "## Exportation de la table des zones"
   ]
  },
  {
   "cell_type": "code",
   "execution_count": 107,
   "metadata": {
    "id": "AuNIQilYwaY3"
   },
   "outputs": [],
   "source": [
    "#Nous supprimons les valeurs manquantes avant l'exportation des tables vers SQL\n",
    "babies.dropna(inplace=True)\n",
    "\n",
    "\n",
    "#Récupération des indexs qui vont servir d'identifiant\n",
    "index_race_mere = pd.Series(babies[\"mere_race\"].value_counts(sort=False).index)\n",
    "index_race_pere = babies[\"pere_race\"].value_counts(sort=False).index\n",
    "\n",
    "#Concaténer les indexs avec la description correspondantes\n",
    "mere_race = pd.concat([index_race_mere,pd.Series([\n",
    "\"Blanc (uniquement)\",\n",
    "\"Noir (uniquement)\",\n",
    "\"AIAN (uniquement)\",\n",
    "\"Asiatique (uniquement)\",\n",
    "\"NHOPI (uniquement)\",\n",
    "\"Plus d'une origine\",\n",
    "\"Inconnu\"\n",
    "])],axis=1)\n",
    "\n",
    "pere_race = pd.concat([index_race_mere,pd.Series([\n",
    "\"Blanc (uniquement)\",\n",
    "\"Noir (uniquement)\",\n",
    "\"AIAN (uniquement)\",\n",
    "\"Asiatique (uniquement)\",\n",
    "\"NHOPI (uniquement)\",\n",
    "\"Plus d'une origine\",\n",
    "\"Inconnu\"\n",
    "])],axis=1)\n",
    "\n",
    "#Concaténer les lignes\n",
    "zone = mere_race.append(pere_race).rename({0:\"code_zone\", 1: \"label\"},axis=1)\n",
    "\n",
    "#Exportation\n",
    "zone.to_csv(\"../01-SQL/zone.csv\")\n"
   ]
  },
  {
   "cell_type": "markdown",
   "metadata": {
    "id": "s8w5vJXu72NC"
   },
   "source": [
    "## Exportation des bébés\n"
   ]
  },
  {
   "cell_type": "code",
   "execution_count": 108,
   "metadata": {
    "colab": {
     "base_uri": "https://localhost:8080/"
    },
    "id": "MZIylbdB8IQx",
    "outputId": "5e6d9dff-1bc3-45af-981c-b218f1573a81"
   },
   "outputs": [
    {
     "name": "stderr",
     "output_type": "stream",
     "text": [
      "/usr/local/lib/python3.6/dist-packages/ipykernel_launcher.py:13: SettingWithCopyWarning: \n",
      "A value is trying to be set on a copy of a slice from a DataFrame.\n",
      "Try using .loc[row_indexer,col_indexer] = value instead\n",
      "\n",
      "See the caveats in the documentation: https://pandas.pydata.org/pandas-docs/stable/user_guide/indexing.html#returning-a-view-versus-a-copy\n",
      "  del sys.path[0]\n"
     ]
    }
   ],
   "source": [
    "bebe = babies[[\n",
    "\"ordre_naissance\",\n",
    "\"previs\",\n",
    "\"wic\",\n",
    "\"medoc_fertilite\",\n",
    "\"born_hopital\",\n",
    "\"poids_bebe\",\n",
    "\"dplural\",\n",
    "\"duree_grossesse\",\n",
    "\"sex\",\n",
    "\"pere_race\",\n",
    "\"mere_race\"]]\n",
    "bebe[\"id_mere\"] = bebe[\"id_pere\"] = bebe.index\n",
    "bebe.index.rename(\"id_bebe\",inplace=True)\n",
    "bebe.to_csv(\"../01-SQL/bebe.csv\")"
   ]
  },
  {
   "cell_type": "markdown",
   "metadata": {
    "id": "-QbK0jOR-guT"
   },
   "source": [
    "## Base des mères "
   ]
  },
  {
   "cell_type": "code",
   "execution_count": 112,
   "metadata": {
    "colab": {
     "base_uri": "https://localhost:8080/"
    },
    "id": "pUZbT7G0-kNu",
    "outputId": "8382ebee-763c-4d1b-bb83-87151367891c"
   },
   "outputs": [
    {
     "name": "stderr",
     "output_type": "stream",
     "text": [
      "/usr/local/lib/python3.6/dist-packages/pandas/core/frame.py:4308: SettingWithCopyWarning: \n",
      "A value is trying to be set on a copy of a slice from a DataFrame\n",
      "\n",
      "See the caveats in the documentation: https://pandas.pydata.org/pandas-docs/stable/user_guide/indexing.html#returning-a-view-versus-a-copy\n",
      "  errors=errors,\n"
     ]
    }
   ],
   "source": [
    "meres = babies[[\n",
    "\"age_mere\",\n",
    "\"nbre_cigarette_daily\",\n",
    "\"imc\",\n",
    "\"niv_educ_mere\",\n",
    "\"mere_fumeuse\",  \n",
    "\"mere_race\"       \n",
    "]]\n",
    "meres.rename(columns={\"mere_race\":\"code_zone\"},inplace=True)\n",
    "meres.index.rename(\"id_mere\",inplace=True)\n",
    "meres.to_csv(\"../01-SQL/mere.csv\")"
   ]
  },
  {
   "cell_type": "markdown",
   "metadata": {
    "id": "_CFxpXTS_KxP"
   },
   "source": [
    "## Base des pères"
   ]
  },
  {
   "cell_type": "code",
   "execution_count": 110,
   "metadata": {
    "id": "x2aGucBJ_PoH"
   },
   "outputs": [],
   "source": [
    "peres = babies[[\n",
    "\"niv_educ_pere\",\n",
    "\"age_pere\",             \n",
    "]]\n",
    "peres.index.rename(\"id_pere\",inplace=True)\n",
    "peres.to_csv(\"../01-SQL/pere.csv\")"
   ]
  },
  {
   "cell_type": "markdown",
   "metadata": {
    "id": "-7xJuzidoxed"
   },
   "source": [
    "#Regression linéaire\n",
    "Dans cette section nous allons expliquer le poids des bébés en fonction de certains facteurs.\n",
    "\n",
    "En se basant sur la revue de littérature, les facteurs qui expliquent le poids des bébés et qui sont disponibles pour notre étude sont les suivants: \n",
    "- le sexe\n",
    "- l'age de la mère\n",
    "- la durée de la grossesse\n",
    "- pluralité\n",
    "- les consultations prénatales\n",
    "- La consomation du tabac\n",
    "- que la mère soit ou non attiente de diabete\n",
    "- que la mère soit ou non atteinte d'hypertension\n",
    "- alimentation du programme wic"
   ]
  },
  {
   "cell_type": "code",
   "execution_count": 111,
   "metadata": {
    "colab": {
     "base_uri": "https://localhost:8080/"
    },
    "id": "vp80BjdmpC9G",
    "outputId": "8cb27271-ae81-4450-d135-cb816ce76573"
   },
   "outputs": [
    {
     "name": "stdout",
     "output_type": "stream",
     "text": [
      "                            OLS Regression Results                            \n",
      "==============================================================================\n",
      "Dep. Variable:             poids_bebe   R-squared:                       0.346\n",
      "Model:                            OLS   Adj. R-squared:                  0.346\n",
      "Method:                 Least Squares   F-statistic:                 1.208e+05\n",
      "Date:                Sun, 13 Dec 2020   Prob (F-statistic):               0.00\n",
      "Time:                        22:14:09   Log-Likelihood:            -1.3542e+06\n",
      "No. Observations:             2053513   AIC:                         2.708e+06\n",
      "Df Residuals:                 2053503   BIC:                         2.708e+06\n",
      "Df Model:                           9                                         \n",
      "Covariance Type:            nonrobust                                         \n",
      "===================================================================================\n",
      "                      coef    std err          t      P>|t|      [0.025      0.975]\n",
      "-----------------------------------------------------------------------------------\n",
      "const              -1.0919      0.007   -162.628      0.000      -1.105      -1.079\n",
      "sex                 0.1266      0.001    193.804      0.000       0.125       0.128\n",
      "age_mere            0.0054   6.07e-05     88.942      0.000       0.005       0.006\n",
      "duree_grossesse     0.1219      0.000    838.653      0.000       0.122       0.122\n",
      "dplural            -0.5233      0.002   -288.631      0.000      -0.527      -0.520\n",
      "previs              0.0004    2.7e-05     13.834      0.000       0.000       0.000\n",
      "mere_fumeuse       -0.1443      0.002    -96.033      0.000      -0.147      -0.141\n",
      "diabete             0.0721      0.001     58.351      0.000       0.070       0.075\n",
      "hypertension       -0.1134      0.001    -97.213      0.000      -0.116      -0.111\n",
      "wic                -0.0299      0.001    -41.184      0.000      -0.031      -0.028\n",
      "==============================================================================\n",
      "Omnibus:                    38093.790   Durbin-Watson:                   1.966\n",
      "Prob(Omnibus):                  0.000   Jarque-Bera (JB):            74333.852\n",
      "Skew:                           0.099   Prob(JB):                         0.00\n",
      "Kurtosis:                       3.911   Cond. No.                     1.05e+03\n",
      "==============================================================================\n",
      "\n",
      "Warnings:\n",
      "[1] Standard Errors assume that the covariance matrix of the errors is correctly specified.\n",
      "[2] The condition number is large, 1.05e+03. This might indicate that there are\n",
      "strong multicollinearity or other numerical problems.\n"
     ]
    }
   ],
   "source": [
    "import statsmodels.api as sm \n",
    "\n",
    "\n",
    "#Extraire les variables\n",
    "X = babies[[\n",
    "            \"sex\",\n",
    "            \"age_mere\",\n",
    "            \"duree_grossesse\",\n",
    "            \"dplural\",\n",
    "            \"previs\",\n",
    "            \"mere_fumeuse\",\n",
    "            \"diabete\",\n",
    "            \"hypertension\",\n",
    "            \"wic\"    \n",
    "]]\n",
    "\n",
    "#Extraire le poids des bébés\n",
    "Y =  babies.poids_bebe\n",
    "\n",
    "#Ajouter le terme constant \n",
    "X = sm.add_constant(X)\n",
    "\n",
    "# #Définir le modèle en excluant les observations présantant des valeurs manquantes\n",
    "regression = sm.OLS(Y,X).fit()\n",
    "\n",
    "#Afficher les résultats\n",
    "print(regression.summary())"
   ]
  },
  {
   "cell_type": "markdown",
   "metadata": {
    "id": "h8t7TFToe7GO"
   },
   "source": [
    "# Commentaire sur le modèle de regression\n",
    "\n",
    "Ce modèle explique la variabilté du poids des enfants dans une proportion de 34%.\n",
    "\n",
    "Toutefois elle est globalement significatif au seuil de 1%, (la probabilité de F est quasiment nule)\n",
    "De ce modèle on déduit que tous les facteurs considérés chez la mère influence le poids du nouveau nés(car toutes les variables sont significative) à un seuile de 1%.\n",
    "\n",
    "Notamment: L'age de la mère, la durée de la grossesse , les visites prénatales, le diabete sont des facteurs qui influence positivement le poids des enfants, tandis que l'hypertension, la pluralité de la grossesse, la consommation du tabac et l'hypertension, sont des facteurs qui influencent négativement le poids des enfants à la naissance.\n",
    "\n",
    "Par ailleurs le fait q'un bébé soit garçon augmente sa chance d'avoir un poids élevé relativement à une fille.\n",
    "\n",
    "Cependant, le signe de la variable wic n'est pas celui attendu, car le wic est un programme de suivi des femmes enceintes qui est destiné à leur permettre de garder leur état de santé et celui de leur enfants, il devrait donc améliorer le poids des nouveaux nés et non le réduire. Mais pour approfondir l'impact réel du wic, on pourrait catégoriser les bébés selon leurs poids."
   ]
  },
  {
   "cell_type": "code",
   "execution_count": null,
   "metadata": {
    "tags": []
   },
   "outputs": [],
   "source": [
    "ddf= pd.read_csv(\"https://data.nber.org/nvss/natality/csv/2018/natality2018us.csv\")"
   ]
  },
  {
   "cell_type": "code",
   "execution_count": null,
   "metadata": {},
   "outputs": [],
   "source": []
  }
 ],
 "metadata": {
  "colab": {
   "collapsed_sections": [],
   "name": "python",
   "provenance": []
  },
  "kernelspec": {
   "display_name": "Python 3 (ipykernel)",
   "language": "python",
   "name": "python3"
  },
  "language_info": {
   "codemirror_mode": {
    "name": "ipython",
    "version": 3
   },
   "file_extension": ".py",
   "mimetype": "text/x-python",
   "name": "python",
   "nbconvert_exporter": "python",
   "pygments_lexer": "ipython3",
   "version": "3.11.5"
  }
 },
 "nbformat": 4,
 "nbformat_minor": 4
}
